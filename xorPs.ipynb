{
  "nbformat": 4,
  "nbformat_minor": 0,
  "metadata": {
    "colab": {
      "provenance": [],
      "authorship_tag": "ABX9TyPkC0ed34LVIiJKKqPB7F+d",
      "include_colab_link": true
    },
    "kernelspec": {
      "name": "python3",
      "display_name": "Python 3"
    },
    "language_info": {
      "name": "python"
    }
  },
  "cells": [
    {
      "cell_type": "markdown",
      "metadata": {
        "id": "view-in-github",
        "colab_type": "text"
      },
      "source": [
        "<a href=\"https://colab.research.google.com/github/shreyasri258/100-Days-Of-ML-Code/blob/master/xorPs.ipynb\" target=\"_parent\"><img src=\"https://colab.research.google.com/assets/colab-badge.svg\" alt=\"Open In Colab\"/></a>"
      ]
    },
    {
      "cell_type": "code",
      "execution_count": 32,
      "metadata": {
        "id": "wVVnXASVOBmK"
      },
      "outputs": [],
      "source": [
        "import tensorflow.compat.v1 as tf\n",
        "tf.disable_v2_behavior()\n",
        "import numpy as np"
      ]
    },
    {
      "cell_type": "code",
      "source": [
        "X = tf.placeholder(dtype=tf.float32, shape=(4, 2))\n",
        "Y = tf.placeholder(dtype=tf.float32, shape=(4, 1))\n"
      ],
      "metadata": {
        "id": "bkxzu1rZOONT"
      },
      "execution_count": 33,
      "outputs": []
    },
    {
      "cell_type": "code",
      "source": [
        "ip = [[0,0],[0,1],[1,0],[1,1]]\n",
        "op = [[0],[1],[1],[0]]\n"
      ],
      "metadata": {
        "id": "zvd9j7WlOSxv"
      },
      "execution_count": 34,
      "outputs": []
    },
    {
      "cell_type": "code",
      "source": [
        "learning_rate = 0.01\n",
        "epochs = 10000"
      ],
      "metadata": {
        "id": "2DZNulR1OT-H"
      },
      "execution_count": 35,
      "outputs": []
    },
    {
      "cell_type": "code",
      "source": [
        "with tf.variable_scope('hidden'):\n",
        " h_w = tf.Variable(tf.truncated_normal([2, 2]), name='weights')\n",
        " h_b = tf.Variable(tf.truncated_normal([4, 2]), name='biases')\n",
        " h = tf.nn.relu(tf.matmul(X, h_w) + h_b)\n"
      ],
      "metadata": {
        "id": "S4uDjabLOY3y"
      },
      "execution_count": 36,
      "outputs": []
    },
    {
      "cell_type": "code",
      "source": [
        "with tf.variable_scope('output'):\n",
        " \n",
        " \n",
        " o_w = tf.Variable(tf.truncated_normal([2, 1]), name='weights')\n",
        " o_b = tf.Variable(tf.truncated_normal([4, 1]), name='biases')\n",
        " \n",
        " \n",
        " Y_estimation = tf.nn.sigmoid(tf.matmul(h, o_w) + o_b)"
      ],
      "metadata": {
        "id": "rIQpHYbAOhA4"
      },
      "execution_count": 37,
      "outputs": []
    },
    {
      "cell_type": "code",
      "source": [
        "with tf.variable_scope('cost'):\n",
        "\n",
        " \n",
        " cost = tf.reduce_mean(tf.squared_difference(Y_estimation, Y))"
      ],
      "metadata": {
        "id": "xRY6cm0YOnfv"
      },
      "execution_count": 38,
      "outputs": []
    },
    {
      "cell_type": "code",
      "source": [
        "with tf.variable_scope('train'):\n",
        "\n",
        " \n",
        " train = tf.train.AdamOptimizer(learning_rate).minimize(cost)\n"
      ],
      "metadata": {
        "id": "a9CcPGsaOqvV"
      },
      "execution_count": 39,
      "outputs": []
    },
    {
      "cell_type": "code",
      "source": [
        "with tf.Session() as session:\n",
        "\n",
        " # initialize the session variables\n",
        " session.run(tf.global_variables_initializer())\n",
        " print(\"Training Started\")\n",
        " \n",
        " # log count\n",
        " log_count_frac = epochs/10\n",
        " for epoch in range(epochs):\n",
        " \n",
        "  # Training the base network\n",
        "  session.run(train, feed_dict={X:  ip, Y:op})\n",
        "\n",
        "  \n",
        "\n",
        " print(\"Training Completed !\")\n",
        " Y_test = session.run(Y_estimation, feed_dict={X:ip})\n",
        " print(np.round(Y_test, decimals=1))\n"
      ],
      "metadata": {
        "colab": {
          "base_uri": "https://localhost:8080/"
        },
        "id": "cH-yDy5SOvGR",
        "outputId": "9db8144a-16dc-4fa7-b011-85238bda8da7"
      },
      "execution_count": 40,
      "outputs": [
        {
          "output_type": "stream",
          "name": "stdout",
          "text": [
            "Training Started\n",
            "Training Completed !\n",
            "[[0.]\n",
            " [1.]\n",
            " [1.]\n",
            " [0.]]\n"
          ]
        }
      ]
    }
  ]
}